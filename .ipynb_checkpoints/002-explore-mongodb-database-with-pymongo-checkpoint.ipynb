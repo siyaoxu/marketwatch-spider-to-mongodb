{
 "cells": [
  {
   "cell_type": "markdown",
   "metadata": {},
   "source": [
    "# Explore our scraped data with pyMongo"
   ]
  },
  {
   "cell_type": "markdown",
   "metadata": {},
   "source": [
    "## Summary\n",
    "In this notebook, we explored the scraped news reports data in 001-scraping-marketwatch-latestnews-to-MongoDB.ipynb with PyMongo. These operations includes common database operators and the Aggregation Pipeline Framework, with which duplicates of news reports have been removed based on their 'url's."
   ]
  },
  {
   "cell_type": "markdown",
   "metadata": {},
   "source": [
    "Make sure `mongod.exe` is running on our machine."
   ]
  },
  {
   "cell_type": "code",
   "execution_count": 136,
   "metadata": {
    "collapsed": true
   },
   "outputs": [],
   "source": [
    "import pymongo\n",
    "from pprint import pprint\n",
    "from bson import Code"
   ]
  },
  {
   "cell_type": "markdown",
   "metadata": {},
   "source": [
    "## Connecting to MongoDB instance"
   ]
  },
  {
   "cell_type": "code",
   "execution_count": 19,
   "metadata": {
    "collapsed": false
   },
   "outputs": [],
   "source": [
    "# connecting to the database\n",
    "def mongodb_conn():\n",
    "    try:\n",
    "        conn = pymongo.MongoClient()\n",
    "        print('Successfully connected to MongoDB.')\n",
    "    except pymongo.errors.ConnectionFailure:\n",
    "        print('Connection failure.')\n",
    "    return conn"
   ]
  },
  {
   "cell_type": "code",
   "execution_count": 20,
   "metadata": {
    "collapsed": false
   },
   "outputs": [
    {
     "name": "stdout",
     "output_type": "stream",
     "text": [
      "Successfully connected to MongoDB.\n"
     ]
    }
   ],
   "source": [
    "conn=mongodb_conn()"
   ]
  },
  {
   "cell_type": "markdown",
   "metadata": {},
   "source": [
    "## Get our database"
   ]
  },
  {
   "cell_type": "code",
   "execution_count": 21,
   "metadata": {
    "collapsed": false
   },
   "outputs": [
    {
     "name": "stdout",
     "output_type": "stream",
     "text": [
      "Database(MongoClient(host=['localhost:27017'], document_class=dict, tz_aware=False, connect=True), 'marketwatch')\n"
     ]
    }
   ],
   "source": [
    "def get_db(conn,dbname):\n",
    "    return conn[dbname]\n",
    "\n",
    "mwdb = get_db(conn,'marketwatch')\n",
    "print(mwdb)"
   ]
  },
  {
   "cell_type": "markdown",
   "metadata": {},
   "source": [
    "List collections in the marketwatch database. Here we have only one collection 'news'."
   ]
  },
  {
   "cell_type": "code",
   "execution_count": 22,
   "metadata": {
    "collapsed": false
   },
   "outputs": [
    {
     "name": "stdout",
     "output_type": "stream",
     "text": [
      "['news']\n"
     ]
    }
   ],
   "source": [
    "print(mwdb.collection_names())"
   ]
  },
  {
   "cell_type": "markdown",
   "metadata": {},
   "source": [
    "## Explore collection 'news'"
   ]
  },
  {
   "cell_type": "markdown",
   "metadata": {},
   "source": [
    "Let's get the collection for following operations. Note: collections in a NoSQL database are like tables in relational database. A collections is literally a collection of documents. Documents are basic elements of a NoSQL database, which is similar to records in a table of relational database. Collections do not enforce a schema, hence every document may have different fields. In this simple collection, we have five fields for 133 documents: '_id' (added by MongoDB while inserting a document into the database), 'newsid', 'timestamp', 'title', 'url'. "
   ]
  },
  {
   "cell_type": "code",
   "execution_count": 25,
   "metadata": {
    "collapsed": false
   },
   "outputs": [
    {
     "name": "stdout",
     "output_type": "stream",
     "text": [
      "Records in the collection: 133\n"
     ]
    }
   ],
   "source": [
    "news = mwdb.get_collection('news')\n",
    "print('Records in the collection: {}'.format(news.count()))"
   ]
  },
  {
   "cell_type": "markdown",
   "metadata": {},
   "source": [
    "## Wrangling the data with pymongo"
   ]
  },
  {
   "cell_type": "markdown",
   "metadata": {},
   "source": [
    "While scraping headlines and inserting them into our database, we use 'newsid' as the primary key of documents. Hence a document will be inserted as long as it has a unique newsid on the web. However, the second and third documents in the following query are two headlines from the same 'url', even though they have different 'newsid', 'timestamp', and 'title'. "
   ]
  },
  {
   "cell_type": "code",
   "execution_count": 75,
   "metadata": {
    "collapsed": false
   },
   "outputs": [],
   "source": [
    "# mwdb.command('collstats','news')"
   ]
  },
  {
   "cell_type": "code",
   "execution_count": 50,
   "metadata": {
    "collapsed": false,
    "scrolled": false
   },
   "outputs": [
    {
     "name": "stdout",
     "output_type": "stream",
     "text": [
      "{'_id': ObjectId('58b0567e46c17449364e3c36'),\n",
      " 'newsid': '1293178047',\n",
      " 'timestamp': '2/24/2017 10:30:00 AM',\n",
      " 'title': '\"FCA Replay\" Wraps the Week',\n",
      " 'url': '/story/fca-replay-wraps-the-week-2017-02-24'}\n",
      "\n",
      "\n",
      "{'_id': ObjectId('58b05f6b46c17449364e416b'),\n",
      " 'newsid': '1293182082',\n",
      " 'timestamp': '2/24/2017 11:27:00 AM',\n",
      " 'title': '$3 Million, Dead Turtles and a Sex Website: Inside One Man’s Bid to '\n",
      "          'Clear His Name Online',\n",
      " 'url': 'https://www.wsj.com/articles/3-million-dead-turtles-and-a-sex-website-inside-one-mans-bid-to-clear-his-name-on-the-internet-1487949319'}\n",
      "\n",
      "\n",
      "{'_id': ObjectId('58b0567e46c17449364e3b78'),\n",
      " 'newsid': '1293179467',\n",
      " 'timestamp': '2/24/2017 10:49:00 AM',\n",
      " 'title': '$3 Million, Dead Turtles and a Sex Website: Inside One Man’s Bid to '\n",
      "          'Clear His Name on the Internet',\n",
      " 'url': 'https://www.wsj.com/articles/3-million-dead-turtles-and-a-sex-website-inside-one-mans-bid-to-clear-his-name-on-the-internet-1487949319'}\n",
      "\n",
      "\n"
     ]
    }
   ],
   "source": [
    "for doc in news.find().sort([('title',pymongo.ASCENDING)]).limit(3):\n",
    "    pprint(doc);\n",
    "    print('\\n')"
   ]
  },
  {
   "cell_type": "markdown",
   "metadata": {},
   "source": [
    "It is odd that 'title' and 'url' have different numbers of distinct values as follows. We should find out which one is the correct primary key."
   ]
  },
  {
   "cell_type": "code",
   "execution_count": 67,
   "metadata": {
    "collapsed": false
   },
   "outputs": [
    {
     "name": "stdout",
     "output_type": "stream",
     "text": [
      "126\n",
      "103\n"
     ]
    }
   ],
   "source": [
    "print(len(news.distinct('title')))\n",
    "print(len(news.distinct('url')))"
   ]
  },
  {
   "cell_type": "markdown",
   "metadata": {},
   "source": [
    "Grouping and counting documents by 'title', we can identify a few duplicates. As we have seen above, some news have been reported for multiple times with slightly different titles. So we still have to check out their 'url' values."
   ]
  },
  {
   "cell_type": "code",
   "execution_count": 96,
   "metadata": {
    "collapsed": false
   },
   "outputs": [
    {
     "name": "stdout",
     "output_type": "stream",
     "text": [
      "{'_id': 'Dollar Edges Higher With Trump Speech Looming', 'count': 2}\n",
      "{'_id': 'Podcast: How to Combat Bias in Hiring', 'count': 2}\n",
      "{'_id': 'Buffett’s $5 Billion BofA Bonanza: Thank You, President Trump',\n",
      " 'count': 2}\n",
      "{'_id': 'Rare Chess Sets Through History', 'count': 2}\n",
      "{'_id': 'U.S. Consumer Sentiment Falls But Remains Near Decadelong High',\n",
      " 'count': 2}\n",
      "{'_id': 'U.S. stocks retreat from record-setting streak, but on track for '\n",
      "        'weekly gain',\n",
      " 'count': 2}\n",
      "{'_id': 'Goldman Executive Who Helped Court 1MBD Leaves Firm', 'count': 2}\n",
      "{'_id': 'Legend Solar Founders Honored Among Utah’s Top Forty Under 40',\n",
      " 'count': 1}\n",
      "{'_id': 'Novetta Chosen as One of Top 50 Great Places to Work in Washington, '\n",
      "        'DC Area by Washingtonian Magazine',\n",
      " 'count': 1}\n",
      "{'_id': 'Hill Named VP of Marketing & Communications at Alvernia University',\n",
      " 'count': 1}\n"
     ]
    }
   ],
   "source": [
    "for doc in news.aggregate([\n",
    "{ '$group': { '_id': '$title', 'count': { '$sum': 1 } } },\n",
    "{ '$sort': { 'count': -1 } },\n",
    "{ '$limit':10}\n",
    "]):\n",
    "    pprint(doc)"
   ]
  },
  {
   "cell_type": "markdown",
   "metadata": {},
   "source": [
    "In this case, we also have identified some duplites having exactly the same urls, which should be removed. However, there are news reports with 'n/a' urls."
   ]
  },
  {
   "cell_type": "code",
   "execution_count": 100,
   "metadata": {
    "collapsed": false
   },
   "outputs": [
    {
     "name": "stdout",
     "output_type": "stream",
     "text": [
      "{'_id': 'n/a', 'count': 23}\n",
      "{'_id': 'https://www.wsj.com/articles/rare-chess-sets-through-history-1487951248',\n",
      " 'count': 2}\n",
      "{'_id': 'https://www.wsj.com/articles/dollar-edges-higher-with-trump-speech-looming-1487951288',\n",
      " 'count': 2}\n",
      "{'_id': 'https://www.wsj.com/articles/3-million-dead-turtles-and-a-sex-website-inside-one-mans-bid-to-clear-his-name-on-the-internet-1487949319',\n",
      " 'count': 2}\n",
      "{'_id': '/story/dow-poised-to-break-10-day-string-of-record-closes-2017-02-24',\n",
      " 'count': 2}\n",
      "{'_id': 'https://www.wsj.com/articles/warren-buffetts-5-billion-bank-of-america-bonanza-thank-you-president-trump-1487950050',\n",
      " 'count': 2}\n",
      "{'_id': 'https://www.wsj.com/articles/goldman-executive-who-helped-court-1mbd-leaves-firm-1487949576',\n",
      " 'count': 2}\n",
      "{'_id': 'https://www.wsj.com/articles/podcast-how-to-combat-bias-in-hiring-1487951070',\n",
      " 'count': 2}\n",
      "{'_id': 'https://www.wsj.com/articles/u-s-consumer-sentiment-falls-but-remains-near-decadelong-high-1487949608',\n",
      " 'count': 2}\n",
      "{'_id': '/story/hill-named-vp-of-marketing-communications-at-alvernia-university-2017-02-24',\n",
      " 'count': 1}\n"
     ]
    }
   ],
   "source": [
    "for doc in news.aggregate([\n",
    "    {'$sortByCount':'$url'},\n",
    "    {'$limit':10}\n",
    "]):\n",
    "    pprint(doc)"
   ]
  },
  {
   "cell_type": "markdown",
   "metadata": {},
   "source": [
    "Checking out titles of all documents with 'url'='n/a', it seems they are 'essentially' reports of different news in this small dataset. Hence, we assume that headline only news reports can use titles as their primary keys."
   ]
  },
  {
   "cell_type": "code",
   "execution_count": 116,
   "metadata": {
    "collapsed": false,
    "scrolled": true
   },
   "outputs": [
    {
     "name": "stdout",
     "output_type": "stream",
     "text": [
      "{'_id': ObjectId('58b0567e46c17449364e3b3c'),\n",
      " 'newsid': '1293176031',\n",
      " 'timestamp': '2/24/2017 10:01:27 AM',\n",
      " 'title': '10-year yield off 2.7 basis points to 2.343%',\n",
      " 'url': 'n/a'}\n",
      "{'_id': ObjectId('58b0567e46c17449364e3ad3'),\n",
      " 'newsid': '1293177880',\n",
      " 'timestamp': '2/24/2017 10:28:11 AM',\n",
      " 'title': '10-year yield off 3.9 basis points to 2.333%',\n",
      " 'url': 'n/a'}\n",
      "{'_id': ObjectId('58b0567e46c17449364e3b37'),\n",
      " 'newsid': '1293176033',\n",
      " 'timestamp': '2/24/2017 10:01:27 AM',\n",
      " 'title': '2-year yield off 1.9 basis point at 1.165%',\n",
      " 'url': 'n/a'}\n",
      "{'_id': ObjectId('58b0567e46c17449364e3b32'),\n",
      " 'newsid': '1293176035',\n",
      " 'timestamp': '2/24/2017 10:01:27 AM',\n",
      " 'title': '30-year yield down 3.2 basis points at 2.980%',\n",
      " 'url': 'n/a'}\n",
      "{'_id': ObjectId('58b0567e46c17449364e3af6'),\n",
      " 'newsid': '1293176731',\n",
      " 'timestamp': '2/24/2017 10:11:34 AM',\n",
      " 'title': 'Chesapeake Energy upgraded to neutral from sell at UBS',\n",
      " 'url': 'n/a'}\n",
      "{'_id': ObjectId('58b0567e46c17449364e3ace'),\n",
      " 'newsid': '1293177882',\n",
      " 'timestamp': '2/24/2017 10:28:11 AM',\n",
      " 'title': 'Dollar down 0.4% at 112.22 yen',\n",
      " 'url': 'n/a'}\n",
      "{'_id': ObjectId('58b0567e46c17449364e3b1e'),\n",
      " 'newsid': '1293176085',\n",
      " 'timestamp': '2/24/2017 10:02:33 AM',\n",
      " 'title': 'Dollar remains lower after consumer-sentiment report',\n",
      " 'url': 'n/a'}\n",
      "{'_id': ObjectId('58b0567e46c17449364e3b0f'),\n",
      " 'newsid': '1293176109',\n",
      " 'timestamp': '2/24/2017 10:03:26 AM',\n",
      " 'title': 'Dow off 0.2% at 20,776; S&P 500 down 0.3% at 2,357',\n",
      " 'url': 'n/a'}\n",
      "{'_id': ObjectId('58b0567e46c17449364e3b14'),\n",
      " 'newsid': '1293176237',\n",
      " 'timestamp': '2/24/2017 10:02:42 AM',\n",
      " 'title': 'Feb consumer sentiment falls from 13-year peak in January',\n",
      " 'url': 'n/a'}\n",
      "{'_id': ObjectId('58b0567e46c17449364e3b28'),\n",
      " 'newsid': '1293176070',\n",
      " 'timestamp': '2/24/2017 10:01:59 AM',\n",
      " 'title': 'Final U.S. consumer sentiment in February dips to 96.3',\n",
      " 'url': 'n/a'}\n",
      "{'_id': ObjectId('58b0567e46c17449364e3b69'),\n",
      " 'newsid': '1293174738',\n",
      " 'timestamp': '2/24/2017 9:43:30 AM',\n",
      " 'title': 'Goldman shares fall 1% to cut nearly 20 points from the Dow in '\n",
      "          'early trade',\n",
      " 'url': 'n/a'}\n",
      "{'_id': ObjectId('58b0567e46c17449364e3b19'),\n",
      " 'newsid': '1293176087',\n",
      " 'timestamp': '2/24/2017 10:02:33 AM',\n",
      " 'title': 'ICE U.S. Dollar index down marginally at 101.04',\n",
      " 'url': 'n/a'}\n",
      "{'_id': ObjectId('58b0567e46c17449364e3afb'),\n",
      " 'newsid': '1293176431',\n",
      " 'timestamp': '2/24/2017 10:08:00 AM',\n",
      " 'title': 'Invesco Mortgage Capital downgraded to neutral from buy at Instinet',\n",
      " 'url': 'n/a'}\n",
      "{'_id': ObjectId('58b0567e46c17449364e3b0a'),\n",
      " 'newsid': '1293176132',\n",
      " 'timestamp': '2/24/2017 10:04:02 AM',\n",
      " 'title': 'Nasdaq Composite sheds 0.3% at 5,816',\n",
      " 'url': 'n/a'}\n",
      "{'_id': ObjectId('58b0567e46c17449364e3b4b'),\n",
      " 'newsid': '1293175736',\n",
      " 'timestamp': '2/24/2017 10:00:04 AM',\n",
      " 'title': 'New home sales jump 3.7% to 555,000 annual pace in January',\n",
      " 'url': 'n/a'}\n",
      "{'_id': ObjectId('58b0567e46c17449364e3b46'),\n",
      " 'newsid': '1293175738',\n",
      " 'timestamp': '2/24/2017 10:00:04 AM',\n",
      " 'title': \"New home sales' median price is $312,900, with 5.7 months supply in \"\n",
      "          'January',\n",
      " 'url': 'n/a'}\n",
      "{'_id': ObjectId('58b0567e46c17449364e3b6e'),\n",
      " 'newsid': '1293174688',\n",
      " 'timestamp': '2/24/2017 9:41:42 AM',\n",
      " 'title': 'Shares of Nike climb 1.2% at $58.09 to lead Dow gainers in early '\n",
      "          'trade',\n",
      " 'url': 'n/a'}\n",
      "{'_id': ObjectId('58b0567e46c17449364e3b41'),\n",
      " 'newsid': '1293176028',\n",
      " 'timestamp': '2/24/2017 10:01:27 AM',\n",
      " 'title': 'Treasury yields tick lower after consumer-sentiment report',\n",
      " 'url': 'n/a'}\n",
      "{'_id': ObjectId('58b0567e46c17449364e3ad8'),\n",
      " 'newsid': '1293177878',\n",
      " 'timestamp': '2/24/2017 10:28:11 AM',\n",
      " 'title': 'Treasury yields, dollar tick lower as Trump speaks',\n",
      " 'url': 'n/a'}\n",
      "{'_id': ObjectId('58b05f6b46c17449364e40f5'),\n",
      " 'newsid': '1293179868',\n",
      " 'timestamp': '2/24/2017 10:54:21 AM',\n",
      " 'title': \"Trump says he'll make tax code more fair for individuals and \"\n",
      "          'businesses',\n",
      " 'url': 'n/a'}\n",
      "{'_id': ObjectId('58b05f6b46c17449364e40f0'),\n",
      " 'newsid': '1293179999',\n",
      " 'timestamp': '2/24/2017 10:56:02 AM',\n",
      " 'title': \"Trump says he'll request 'massive' budget for military buildup\",\n",
      " 'url': 'n/a'}\n",
      "{'_id': ObjectId('58b0567e46c17449364e3aba'),\n",
      " 'newsid': '1293178364',\n",
      " 'timestamp': '2/24/2017 10:33:19 AM',\n",
      " 'title': 'U.S. stocks maintain modest losses as President Trump delivers '\n",
      "          'speech at CPAC',\n",
      " 'url': 'n/a'}\n",
      "{'_id': ObjectId('58b0567e46c17449364e3b23'),\n",
      " 'newsid': '1293176083',\n",
      " 'timestamp': '2/24/2017 10:02:29 AM',\n",
      " 'title': 'U.S. stocks pare early opening losses',\n",
      " 'url': 'n/a'}\n"
     ]
    }
   ],
   "source": [
    "for doc in news.find({'url':'n/a'}).sort([('title',pymongo.ASCENDING)]):\n",
    "    pprint(doc)"
   ]
  },
  {
   "cell_type": "markdown",
   "metadata": {},
   "source": [
    "Let's make a copy of collection news, on which we will drop duplicated documents."
   ]
  },
  {
   "cell_type": "code",
   "execution_count": 56,
   "metadata": {
    "collapsed": true
   },
   "outputs": [],
   "source": [
    "# define a function to copy the collection\n",
    "def cloneCollection(db,collName,newCollName):\n",
    "    pipeline = [ {\"$match\": {}}, \n",
    "             {\"$out\": newCollName}]\n",
    "    db[collName].aggregate(pipeline)\n",
    "    return "
   ]
  },
  {
   "cell_type": "code",
   "execution_count": 103,
   "metadata": {
    "collapsed": false
   },
   "outputs": [],
   "source": [
    "# make a clone of collection news, which is named as 'news_1'\n",
    "cloneCollection(mwdb,'news','news_1')\n",
    "mwdb.collection_names()\n",
    "news_1 = mwdb.get_collection(mwdb.collection_names()[1])"
   ]
  },
  {
   "cell_type": "code",
   "execution_count": 164,
   "metadata": {
    "collapsed": false,
    "scrolled": false
   },
   "outputs": [
    {
     "name": "stdout",
     "output_type": "stream",
     "text": [
      "{'_id': 'https://www.wsj.com/articles/goldman-executive-who-helped-court-1mbd-leaves-firm-1487949576',\n",
      " 'count': 2,\n",
      " 'dups': [ObjectId('58b05f6b46c17449364e418e'),\n",
      "          ObjectId('58b0567e46c17449364e3b8c')]}\n",
      "Duplicates removed!\n",
      "\n",
      "{'_id': 'https://www.wsj.com/articles/podcast-how-to-combat-bias-in-hiring-1487951070',\n",
      " 'count': 2,\n",
      " 'dups': [ObjectId('58b056f446c17449364e3e36'),\n",
      "          ObjectId('58b0567e46c17449364e3b87')]}\n",
      "Duplicates removed!\n",
      "\n",
      "{'_id': 'https://www.wsj.com/articles/3-million-dead-turtles-and-a-sex-website-inside-one-mans-bid-to-clear-his-name-on-the-internet-1487949319',\n",
      " 'count': 2,\n",
      " 'dups': [ObjectId('58b05f6b46c17449364e416b'),\n",
      "          ObjectId('58b0567e46c17449364e3b78')]}\n",
      "Duplicates removed!\n",
      "\n",
      "{'_id': 'https://www.wsj.com/articles/rare-chess-sets-through-history-1487951248',\n",
      " 'count': 2,\n",
      " 'dups': [ObjectId('58b05f6b46c17449364e41a2'),\n",
      "          ObjectId('58b0567e46c17449364e3b82')]}\n",
      "Duplicates removed!\n",
      "\n",
      "{'_id': 'https://www.wsj.com/articles/u-s-consumer-sentiment-falls-but-remains-near-decadelong-high-1487949608',\n",
      " 'count': 2,\n",
      " 'dups': [ObjectId('58b05f6b46c17449364e41ac'),\n",
      "          ObjectId('58b0567e46c17449364e3baf')]}\n",
      "Duplicates removed!\n",
      "\n",
      "{'_id': 'https://www.wsj.com/articles/dollar-edges-higher-with-trump-speech-looming-1487951288',\n",
      " 'count': 2,\n",
      " 'dups': [ObjectId('58b05f6b46c17449364e4198'),\n",
      "          ObjectId('58b0567e46c17449364e3b7d')]}\n",
      "Duplicates removed!\n",
      "\n",
      "{'_id': '/story/dow-poised-to-break-10-day-string-of-record-closes-2017-02-24',\n",
      " 'count': 2,\n",
      " 'dups': [ObjectId('58b05f6b46c17449364e40c8'),\n",
      "          ObjectId('58b0567e46c17449364e3b55')]}\n",
      "Duplicates removed!\n",
      "\n",
      "{'_id': 'https://www.wsj.com/articles/warren-buffetts-5-billion-bank-of-america-bonanza-thank-you-president-trump-1487950050',\n",
      " 'count': 2,\n",
      " 'dups': [ObjectId('58b0571246c17449364e3f84'),\n",
      "          ObjectId('58b0567e46c17449364e3ba5')]}\n",
      "Duplicates removed!\n",
      "\n"
     ]
    }
   ],
   "source": [
    "# query documents that its 'url' count is gt 1 and its 'url' ne 'n/a'\n",
    "\n",
    "for doc in news_1.aggregate([\n",
    "    {'$match':{'url':{'$ne':'n/a'}}},\n",
    "    { '$group': { '_id': '$url', 'dups':{'$addToSet':'$_id'}, 'count': { '$sum': 1 } } },\n",
    "    { '$sort': { 'count': -1 } },\n",
    "    { '$match':{'count':{'$gt':1}}}\n",
    "#     { '$match':{'$and':[{'count':{'$gt':1}}, {'_id':{'$ne':'n/a'}}]}}\n",
    "],  allowDiskUse=True):\n",
    "    pprint(doc);\n",
    "    news_1.delete_many({'_id' : {'$in': doc['dups'][1:] }});\n",
    "    print('Duplicates removed!\\n')\n",
    "\n",
    "\n",
    "# news_1.aggregate([\n",
    "#     {'$match':{'url':{'$ne':'n/a'}}},\n",
    "#     { '$group': { '_id': '$url', 'dups':{'$addToSet':'$_id'}, 'count': { '$sum': 1 } } },\n",
    "#     { '$sort': { 'count': -1 } },\n",
    "#     { '$match':{'count':{'$gt':1}}},\n",
    "#                 ],\n",
    "#     allowDiskUse=True\n",
    "# ).forEach(\n",
    "# Code('''function(doc){\n",
    "#     doc.dups.shift();      // First element skipped for deleting\n",
    "#     news_1.remove({'url' : {'$in': doc.dups }});  // Delete remaining duplicates    \n",
    "#     }''')\n",
    "#         )"
   ]
  },
  {
   "cell_type": "markdown",
   "metadata": {},
   "source": [
    "Verify that duplicates have been removed, and we are ready for next step."
   ]
  },
  {
   "cell_type": "code",
   "execution_count": 167,
   "metadata": {
    "collapsed": false
   },
   "outputs": [
    {
     "name": "stdout",
     "output_type": "stream",
     "text": [
      "{'_id': 'n/a', 'count': 23}\n",
      "{'_id': '/story/top-3-emerging-trends-impacting-the-global-military-body-worn-camera-market-from-2017-2021-technavio-2017-02-24',\n",
      " 'count': 1}\n",
      "{'_id': '/story/shareholderalert-goldberg-law-pc-announces-an-investigation-of-momenta-pharmaceuticals-inc-and-advises-investors-with-losses-to-contact-the-firm-2017-02-24',\n",
      " 'count': 1}\n",
      "{'_id': '/story/rayonier-advanced-materials-announces-first-quarter-2017-dividend-2017-02-24',\n",
      " 'count': 1}\n",
      "{'_id': '/story/hill-named-vp-of-marketing-communications-at-alvernia-university-2017-02-24',\n",
      " 'count': 1}\n",
      "{'_id': '/story/deloitte-corporate-finance-llc-advises-tiger-sul-inc-in-its-sale-to-platte-river-equity-2017-02-24',\n",
      " 'count': 1}\n",
      "{'_id': '/story/legend-solar-founders-honored-among-utahs-top-forty-under-40-2017-02-24',\n",
      " 'count': 1}\n",
      "{'_id': '/story/in-childrens-heart-disease-decreasing-wound-infection-rates-measuring-outcomes-refining-clinical-tools-2017-02-24',\n",
      " 'count': 1}\n",
      "{'_id': '/story/bluedrop-performance-learning-sets-date-for-q1-fiscal-year-2017-results-conference-call-2017-02-24',\n",
      " 'count': 1}\n",
      "{'_id': '/story/los-angeles-cannabis-task-force-in-anticipation-of-measure-m-passing-announces-new-board-president-and-executive-director-2017-02-24',\n",
      " 'count': 1}\n"
     ]
    }
   ],
   "source": [
    "for doc in news_1.aggregate([\n",
    "    {'$sortByCount':'$url'},\n",
    "    {'$limit':10}\n",
    "]):\n",
    "    pprint(doc)"
   ]
  },
  {
   "cell_type": "markdown",
   "metadata": {},
   "source": [
    "# Conclusion\n",
    "\n",
    "In this document, we have used aggregation piplines with PyMongo to explore the scraped news reports data, and have removed duplicates. Although the duplicates of news reports can be removed in MongoDB, it is still recommend to perform screening at the scraping stage as follows:\n",
    "                If 'url'!='n/a':\n",
    "                   if 'url' has not been inserted to the database:\n",
    "                       insert()\n",
    "\n",
    "The next step will be performing queries to select the subset of news reports about the sector of our interest, and also to scrape prices of stocks of our interests."
   ]
  }
 ],
 "metadata": {
  "kernelspec": {
   "display_name": "Python 3",
   "language": "python",
   "name": "python3"
  },
  "language_info": {
   "codemirror_mode": {
    "name": "ipython",
    "version": 3
   },
   "file_extension": ".py",
   "mimetype": "text/x-python",
   "name": "python",
   "nbconvert_exporter": "python",
   "pygments_lexer": "ipython3",
   "version": "3.6.0"
  }
 },
 "nbformat": 4,
 "nbformat_minor": 2
}
